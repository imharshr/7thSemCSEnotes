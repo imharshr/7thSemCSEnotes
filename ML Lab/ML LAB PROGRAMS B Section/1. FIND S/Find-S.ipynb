{
 "cells": [
  {
   "cell_type": "code",
   "execution_count": 3,
   "metadata": {},
   "outputs": [
    {
     "name": "stdout",
     "output_type": "stream",
     "text": [
      "[[' Sunny', 'Warm', 'Normal', 'Strong', ' Warm', 'Same', 'Yes'], [' Sunny', 'Warm', 'High', 'Strong', 'Warm', 'Same', 'Yes'], [' Rainy', 'Cold', 'High', 'Strong', 'Warm', 'Change', 'No'], [' Sunny', 'Warm', 'High', 'Strong', 'Cool', 'Change', 'Yes']]\n",
      "Most specific hypothesis is\n",
      "[[' Sunny', 'Warm', '?', 'Strong', '?', '?']]\n"
     ]
    }
   ],
   "source": [
    "import csv\n",
    "\n",
    "with open('tennis.csv', 'r') as f:\n",
    "    reader = csv.reader(f)\n",
    "    your_list = list(reader)\n",
    "\n",
    "\n",
    "h = [['0', '0', '0', '0', '0', '0']]\n",
    "\n",
    "\n",
    "for i in your_list:\n",
    "    if i[-1] == \"Yes\":\n",
    "        j = 0\n",
    "        for x in i:\n",
    "            if x != \"Yes\":\n",
    "                if x != h[0][j] and h[0][j] == '0':\n",
    "                    h[0][j] = x\n",
    "                elif x != h[0][j] and h[0][j] != '0':\n",
    "                    h[0][j] = '?'\n",
    "                else:\n",
    "                    pass\n",
    "            j = j + 1\n",
    "print(\"Most specific hypothesis is\")\n",
    "\n",
    "print(h)"
   ]
  },
  {
   "cell_type": "code",
   "execution_count": null,
   "metadata": {},
   "outputs": [],
   "source": []
  }
 ],
 "metadata": {
  "kernelspec": {
   "display_name": "Python 3",
   "language": "python",
   "name": "python3"
  },
  "language_info": {
   "codemirror_mode": {
    "name": "ipython",
    "version": 3
   },
   "file_extension": ".py",
   "mimetype": "text/x-python",
   "name": "python",
   "nbconvert_exporter": "python",
   "pygments_lexer": "ipython3",
   "version": "3.7.4"
  }
 },
 "nbformat": 4,
 "nbformat_minor": 2
}
