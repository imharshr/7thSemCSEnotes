{
 "cells": [
  {
   "cell_type": "markdown",
   "metadata": {},
   "source": [
    "# Title: Heart Disease Databases\n",
    "The Cleveland database contains 76 attributes, but all published experiments refer to using a\n",
    "subset of 14 of them. In particular, the Cleveland database is the only one that has been used\n",
    "by ML researchers to this date. The \"Heartdisease\" field refers to the presence of heart disease\n",
    "in the patient. It is integer valued from 0 (no presence) to 4.\n",
    "\n",
    "Database: 0 1 2 3 4 Total\n",
    "Cleveland: 164 55 36 35 13 303\n",
    "    \n",
    "Attribute Information:\n",
    "    \n",
    "1. age: age in years\n",
    "2. gender: gender (1 = male; 0 = female)\n",
    "3. cp: chest pain type\n",
    " Value 1: typical angina\n",
    " Value 2: atypical angina\n",
    " Value 3: non-anginal pain\n",
    " Value 4: asymptomatic\n",
    "4. trestbps: resting blood pressure (in mm Hg on admission to the hospital)\n",
    "5. chol: serum cholestoral in mg/dl\n",
    "6. fbs: (fasting blood sugar > 120 mg/dl) (1 = true; 0 = false)\n",
    "7. restecg: resting electrocardiographic results\n",
    " Value 0: normal\n",
    " Value 1: having ST-T wave abnormality (T wave inversions and/or ST elevation\n",
    "or depression of > 0.05 mV)\n",
    " Value 2: showing probable or definite left ventricular hypertrophy by Estes'\n",
    "criteria\n",
    "8. thalach: maximum heart rate achieved\n",
    "9. exang: exercise induced angina (1 = yes; 0 = no)\n",
    "10. oldpeak = ST depression induced by exercise relative to rest\n",
    "11.slope: the slope of the peak exercise ST segment\n",
    " Value 1: upsloping\n",
    " Value 2: flat\n",
    " Value 3: downsloping\n",
    "12. ca = number of major vessels (0-3) colored by flourosopy\n",
    "13. thal: 3 = normal; 6 = fixed defect; 7 = reversable defect\n",
    "14.Heartdisease: It is integer valued from 0 (no presence) to 4. Diagnosis of heart disease\n",
    "(angiographic disease status)"
   ]
  },
  {
   "cell_type": "code",
   "execution_count": 2,
   "metadata": {},
   "outputs": [],
   "source": [
    "import numpy as np\n",
    "import csv\n",
    "import pandas as pd\n",
    "from pgmpy.models import BayesianModel\n",
    "from pgmpy.estimators import MaximumLikelihoodEstimator"
   ]
  },
  {
   "cell_type": "code",
   "execution_count": 3,
   "metadata": {},
   "outputs": [],
   "source": [
    "# In case \"No module named 'pgmpy'\" then go to anaconda prompt and in terminal type the below command: \n",
    "#pip install pgmpy\n",
    "#pip install torch"
   ]
  },
  {
   "cell_type": "code",
   "execution_count": 4,
   "metadata": {},
   "outputs": [
    {
     "data": {
      "text/html": [
       "<div>\n",
       "<style scoped>\n",
       "    .dataframe tbody tr th:only-of-type {\n",
       "        vertical-align: middle;\n",
       "    }\n",
       "\n",
       "    .dataframe tbody tr th {\n",
       "        vertical-align: top;\n",
       "    }\n",
       "\n",
       "    .dataframe thead th {\n",
       "        text-align: right;\n",
       "    }\n",
       "</style>\n",
       "<table border=\"1\" class=\"dataframe\">\n",
       "  <thead>\n",
       "    <tr style=\"text-align: right;\">\n",
       "      <th></th>\n",
       "      <th>age</th>\n",
       "      <th>gender</th>\n",
       "      <th>cp</th>\n",
       "      <th>trestbps</th>\n",
       "      <th>chol</th>\n",
       "      <th>fbs</th>\n",
       "      <th>restecg</th>\n",
       "      <th>thalach</th>\n",
       "      <th>exang</th>\n",
       "      <th>oldpeak</th>\n",
       "      <th>slope</th>\n",
       "      <th>ca</th>\n",
       "      <th>thal</th>\n",
       "      <th>heartdisease</th>\n",
       "    </tr>\n",
       "  </thead>\n",
       "  <tbody>\n",
       "    <tr>\n",
       "      <td>0</td>\n",
       "      <td>63</td>\n",
       "      <td>1</td>\n",
       "      <td>3</td>\n",
       "      <td>145</td>\n",
       "      <td>233</td>\n",
       "      <td>1</td>\n",
       "      <td>0</td>\n",
       "      <td>150</td>\n",
       "      <td>0</td>\n",
       "      <td>2.3</td>\n",
       "      <td>0</td>\n",
       "      <td>0</td>\n",
       "      <td>1</td>\n",
       "      <td>1</td>\n",
       "    </tr>\n",
       "    <tr>\n",
       "      <td>1</td>\n",
       "      <td>37</td>\n",
       "      <td>1</td>\n",
       "      <td>2</td>\n",
       "      <td>130</td>\n",
       "      <td>250</td>\n",
       "      <td>0</td>\n",
       "      <td>1</td>\n",
       "      <td>187</td>\n",
       "      <td>0</td>\n",
       "      <td>3.5</td>\n",
       "      <td>0</td>\n",
       "      <td>0</td>\n",
       "      <td>2</td>\n",
       "      <td>1</td>\n",
       "    </tr>\n",
       "    <tr>\n",
       "      <td>2</td>\n",
       "      <td>41</td>\n",
       "      <td>0</td>\n",
       "      <td>1</td>\n",
       "      <td>130</td>\n",
       "      <td>204</td>\n",
       "      <td>0</td>\n",
       "      <td>0</td>\n",
       "      <td>172</td>\n",
       "      <td>0</td>\n",
       "      <td>1.4</td>\n",
       "      <td>2</td>\n",
       "      <td>0</td>\n",
       "      <td>2</td>\n",
       "      <td>1</td>\n",
       "    </tr>\n",
       "    <tr>\n",
       "      <td>3</td>\n",
       "      <td>56</td>\n",
       "      <td>1</td>\n",
       "      <td>1</td>\n",
       "      <td>120</td>\n",
       "      <td>236</td>\n",
       "      <td>0</td>\n",
       "      <td>1</td>\n",
       "      <td>178</td>\n",
       "      <td>0</td>\n",
       "      <td>0.8</td>\n",
       "      <td>2</td>\n",
       "      <td>0</td>\n",
       "      <td>2</td>\n",
       "      <td>1</td>\n",
       "    </tr>\n",
       "    <tr>\n",
       "      <td>4</td>\n",
       "      <td>57</td>\n",
       "      <td>0</td>\n",
       "      <td>0</td>\n",
       "      <td>120</td>\n",
       "      <td>354</td>\n",
       "      <td>0</td>\n",
       "      <td>1</td>\n",
       "      <td>163</td>\n",
       "      <td>1</td>\n",
       "      <td>0.6</td>\n",
       "      <td>2</td>\n",
       "      <td>0</td>\n",
       "      <td>2</td>\n",
       "      <td>1</td>\n",
       "    </tr>\n",
       "  </tbody>\n",
       "</table>\n",
       "</div>"
      ],
      "text/plain": [
       "   age  gender  cp  trestbps  chol  fbs  restecg  thalach  exang  oldpeak  \\\n",
       "0   63       1   3       145   233    1        0      150      0      2.3   \n",
       "1   37       1   2       130   250    0        1      187      0      3.5   \n",
       "2   41       0   1       130   204    0        0      172      0      1.4   \n",
       "3   56       1   1       120   236    0        1      178      0      0.8   \n",
       "4   57       0   0       120   354    0        1      163      1      0.6   \n",
       "\n",
       "   slope  ca  thal  heartdisease  \n",
       "0      0   0     1             1  \n",
       "1      0   0     2             1  \n",
       "2      2   0     2             1  \n",
       "3      2   0     2             1  \n",
       "4      2   0     2             1  "
      ]
     },
     "execution_count": 4,
     "metadata": {},
     "output_type": "execute_result"
    }
   ],
   "source": [
    "#read Cleveland Heart Disease data\n",
    "heartDisease = pd.read_csv('heart.csv')\n",
    "heartDisease.head()"
   ]
  },
  {
   "cell_type": "code",
   "execution_count": 5,
   "metadata": {},
   "outputs": [
    {
     "data": {
      "text/html": [
       "<div>\n",
       "<style scoped>\n",
       "    .dataframe tbody tr th:only-of-type {\n",
       "        vertical-align: middle;\n",
       "    }\n",
       "\n",
       "    .dataframe tbody tr th {\n",
       "        vertical-align: top;\n",
       "    }\n",
       "\n",
       "    .dataframe thead th {\n",
       "        text-align: right;\n",
       "    }\n",
       "</style>\n",
       "<table border=\"1\" class=\"dataframe\">\n",
       "  <thead>\n",
       "    <tr style=\"text-align: right;\">\n",
       "      <th></th>\n",
       "      <th>age</th>\n",
       "      <th>gender</th>\n",
       "      <th>cp</th>\n",
       "      <th>trestbps</th>\n",
       "      <th>chol</th>\n",
       "      <th>fbs</th>\n",
       "      <th>restecg</th>\n",
       "      <th>thalach</th>\n",
       "      <th>exang</th>\n",
       "      <th>heartdisease</th>\n",
       "    </tr>\n",
       "  </thead>\n",
       "  <tbody>\n",
       "    <tr>\n",
       "      <td>0</td>\n",
       "      <td>63</td>\n",
       "      <td>1</td>\n",
       "      <td>3</td>\n",
       "      <td>145</td>\n",
       "      <td>233</td>\n",
       "      <td>1</td>\n",
       "      <td>0</td>\n",
       "      <td>150</td>\n",
       "      <td>0</td>\n",
       "      <td>1</td>\n",
       "    </tr>\n",
       "    <tr>\n",
       "      <td>1</td>\n",
       "      <td>37</td>\n",
       "      <td>1</td>\n",
       "      <td>2</td>\n",
       "      <td>130</td>\n",
       "      <td>250</td>\n",
       "      <td>0</td>\n",
       "      <td>1</td>\n",
       "      <td>187</td>\n",
       "      <td>0</td>\n",
       "      <td>1</td>\n",
       "    </tr>\n",
       "    <tr>\n",
       "      <td>2</td>\n",
       "      <td>41</td>\n",
       "      <td>0</td>\n",
       "      <td>1</td>\n",
       "      <td>130</td>\n",
       "      <td>204</td>\n",
       "      <td>0</td>\n",
       "      <td>0</td>\n",
       "      <td>172</td>\n",
       "      <td>0</td>\n",
       "      <td>1</td>\n",
       "    </tr>\n",
       "    <tr>\n",
       "      <td>3</td>\n",
       "      <td>56</td>\n",
       "      <td>1</td>\n",
       "      <td>1</td>\n",
       "      <td>120</td>\n",
       "      <td>236</td>\n",
       "      <td>0</td>\n",
       "      <td>1</td>\n",
       "      <td>178</td>\n",
       "      <td>0</td>\n",
       "      <td>1</td>\n",
       "    </tr>\n",
       "    <tr>\n",
       "      <td>4</td>\n",
       "      <td>57</td>\n",
       "      <td>0</td>\n",
       "      <td>0</td>\n",
       "      <td>120</td>\n",
       "      <td>354</td>\n",
       "      <td>0</td>\n",
       "      <td>1</td>\n",
       "      <td>163</td>\n",
       "      <td>1</td>\n",
       "      <td>1</td>\n",
       "    </tr>\n",
       "  </tbody>\n",
       "</table>\n",
       "</div>"
      ],
      "text/plain": [
       "   age  gender  cp  trestbps  chol  fbs  restecg  thalach  exang  heartdisease\n",
       "0   63       1   3       145   233    1        0      150      0             1\n",
       "1   37       1   2       130   250    0        1      187      0             1\n",
       "2   41       0   1       130   204    0        0      172      0             1\n",
       "3   56       1   1       120   236    0        1      178      0             1\n",
       "4   57       0   0       120   354    0        1      163      1             1"
      ]
     },
     "execution_count": 5,
     "metadata": {},
     "output_type": "execute_result"
    }
   ],
   "source": [
    "#Incase of missing data\n",
    "\n",
    "del heartDisease['oldpeak']\n",
    "del heartDisease['slope']\n",
    "del heartDisease['ca']\n",
    "del heartDisease['thal']\n",
    "\n",
    "heartDisease = heartDisease.replace('?',np.nan)\n",
    "heartDisease.head()"
   ]
  },
  {
   "cell_type": "code",
   "execution_count": 6,
   "metadata": {},
   "outputs": [
    {
     "data": {
      "text/plain": [
       "Index(['age', 'gender', 'cp', 'trestbps', 'chol', 'fbs', 'restecg', 'thalach',\n",
       "       'exang', 'heartdisease'],\n",
       "      dtype='object')"
      ]
     },
     "execution_count": 6,
     "metadata": {},
     "output_type": "execute_result"
    }
   ],
   "source": [
    "heartDisease.columns"
   ]
  },
  {
   "cell_type": "code",
   "execution_count": 7,
   "metadata": {},
   "outputs": [],
   "source": [
    "#Model Bayesian Network\n",
    "\n",
    "model = BayesianModel([('age', 'trestbps'), ('age', 'fbs'), ('gender', 'trestbps'), ('gender', 'fbs'), \n",
    "                       ('exang', 'trestbps'),('trestbps','heartdisease'),('fbs','heartdisease'),\n",
    "                      ('heartdisease','restecg'),('heartdisease','thalach'),('heartdisease','chol')])"
   ]
  },
  {
   "cell_type": "code",
   "execution_count": 8,
   "metadata": {},
   "outputs": [
    {
     "name": "stdout",
     "output_type": "stream",
     "text": [
      "\n",
      " Learning CPD using Maximum likelihood estimators\n"
     ]
    }
   ],
   "source": [
    "#Learning CPDs using Maximum Likelihood Estimators\n",
    "print('\\n Learning CPD using Maximum likelihood estimators')\n",
    "model.fit(heartDisease,estimator=MaximumLikelihoodEstimator)"
   ]
  },
  {
   "cell_type": "code",
   "execution_count": 9,
   "metadata": {},
   "outputs": [
    {
     "name": "stdout",
     "output_type": "stream",
     "text": [
      "\n",
      " Probability of HeartDisease for given Age\n",
      "+---------+------------+\n",
      "| age(29) | 0.00330033 |\n",
      "+---------+------------+\n",
      "| age(34) | 0.00660066 |\n",
      "+---------+------------+\n",
      "| age(35) | 0.0132013  |\n",
      "+---------+------------+\n",
      "| age(37) | 0.00660066 |\n",
      "+---------+------------+\n",
      "| age(38) | 0.00990099 |\n",
      "+---------+------------+\n",
      "| age(39) | 0.0132013  |\n",
      "+---------+------------+\n",
      "| age(40) | 0.00990099 |\n",
      "+---------+------------+\n",
      "| age(41) | 0.0330033  |\n",
      "+---------+------------+\n",
      "| age(42) | 0.0264026  |\n",
      "+---------+------------+\n",
      "| age(43) | 0.0264026  |\n",
      "+---------+------------+\n",
      "| age(44) | 0.0363036  |\n",
      "+---------+------------+\n",
      "| age(45) | 0.0264026  |\n",
      "+---------+------------+\n",
      "| age(46) | 0.0231023  |\n",
      "+---------+------------+\n",
      "| age(47) | 0.0165017  |\n",
      "+---------+------------+\n",
      "| age(48) | 0.0231023  |\n",
      "+---------+------------+\n",
      "| age(49) | 0.0165017  |\n",
      "+---------+------------+\n",
      "| age(50) | 0.0231023  |\n",
      "+---------+------------+\n",
      "| age(51) | 0.039604   |\n",
      "+---------+------------+\n",
      "| age(52) | 0.0429043  |\n",
      "+---------+------------+\n",
      "| age(53) | 0.0264026  |\n",
      "+---------+------------+\n",
      "| age(54) | 0.0528053  |\n",
      "+---------+------------+\n",
      "| age(55) | 0.0264026  |\n",
      "+---------+------------+\n",
      "| age(56) | 0.0363036  |\n",
      "+---------+------------+\n",
      "| age(57) | 0.0561056  |\n",
      "+---------+------------+\n",
      "| age(58) | 0.0627063  |\n",
      "+---------+------------+\n",
      "| age(59) | 0.0462046  |\n",
      "+---------+------------+\n",
      "| age(60) | 0.0363036  |\n",
      "+---------+------------+\n",
      "| age(61) | 0.0264026  |\n",
      "+---------+------------+\n",
      "| age(62) | 0.0363036  |\n",
      "+---------+------------+\n",
      "| age(63) | 0.029703   |\n",
      "+---------+------------+\n",
      "| age(64) | 0.0330033  |\n",
      "+---------+------------+\n",
      "| age(65) | 0.0264026  |\n",
      "+---------+------------+\n",
      "| age(66) | 0.0231023  |\n",
      "+---------+------------+\n",
      "| age(67) | 0.029703   |\n",
      "+---------+------------+\n",
      "| age(68) | 0.0132013  |\n",
      "+---------+------------+\n",
      "| age(69) | 0.00990099 |\n",
      "+---------+------------+\n",
      "| age(70) | 0.0132013  |\n",
      "+---------+------------+\n",
      "| age(71) | 0.00990099 |\n",
      "+---------+------------+\n",
      "| age(74) | 0.00330033 |\n",
      "+---------+------------+\n",
      "| age(76) | 0.00330033 |\n",
      "+---------+------------+\n",
      "| age(77) | 0.00330033 |\n",
      "+---------+------------+\n"
     ]
    }
   ],
   "source": [
    "#computing the Probability of HeartDisease given Age\n",
    "print('\\n Probability of HeartDisease for given Age')\n",
    "print(model.get_cpds('age'))"
   ]
  },
  {
   "cell_type": "code",
   "execution_count": 10,
   "metadata": {},
   "outputs": [
    {
     "name": "stdout",
     "output_type": "stream",
     "text": [
      "\n",
      " Probability of HeartDisease for given Gender\n",
      "+-----------+----------+\n",
      "| gender(0) | 0.316832 |\n",
      "+-----------+----------+\n",
      "| gender(1) | 0.683168 |\n",
      "+-----------+----------+\n"
     ]
    }
   ],
   "source": [
    "print('\\n Probability of HeartDisease for given Gender')\n",
    "print(model.get_cpds('gender'))"
   ]
  },
  {
   "cell_type": "code",
   "execution_count": 11,
   "metadata": {},
   "outputs": [
    {
     "name": "stdout",
     "output_type": "stream",
     "text": [
      "Inferencing with Bayesian Network\n"
     ]
    },
    {
     "name": "stderr",
     "output_type": "stream",
     "text": [
      "C:\\Users\\brind\\Anaconda3\\lib\\site-packages\\pgmpy\\factors\\discrete\\DiscreteFactor.py:519: UserWarning: Found unknown state name. Trying to switch to using all state names as state numbers\n",
      "  \"Found unknown state name. Trying to switch to using all state names as state numbers\"\n",
      "Finding Elimination Order: : 100%|██████████| 7/7 [00:00<00:00, 1315.59it/s]\n",
      "Eliminating: restecg: 100%|██████████| 7/7 [00:00<00:00, 334.05it/s]\n"
     ]
    },
    {
     "name": "stdout",
     "output_type": "stream",
     "text": [
      "+-----------------+---------------------+\n",
      "| heartdisease    |   phi(heartdisease) |\n",
      "+=================+=====================+\n",
      "| heartdisease(0) |              0.4001 |\n",
      "+-----------------+---------------------+\n",
      "| heartdisease(1) |              0.5999 |\n",
      "+-----------------+---------------------+\n"
     ]
    }
   ],
   "source": [
    "print(\"Inferencing with Bayesian Network\")\n",
    "\n",
    "from pgmpy.inference import VariableElimination\n",
    "HeartDisease_infer = VariableElimination(model)\n",
    "\n",
    "# Computing the probability of bronc given smoke.\n",
    "q = HeartDisease_infer.query(variables=['heartdisease'], evidence={'age': 28})\n",
    "print(q)"
   ]
  },
  {
   "cell_type": "code",
   "execution_count": 12,
   "metadata": {},
   "outputs": [
    {
     "name": "stderr",
     "output_type": "stream",
     "text": [
      "Finding Elimination Order: : 100%|██████████| 7/7 [00:00<00:00, 7023.95it/s]\n",
      "Eliminating: restecg: 100%|██████████| 7/7 [00:00<00:00, 254.27it/s]\n"
     ]
    },
    {
     "name": "stdout",
     "output_type": "stream",
     "text": [
      "+-----------------+---------------------+\n",
      "| heartdisease    |   phi(heartdisease) |\n",
      "+=================+=====================+\n",
      "| heartdisease(0) |              0.0000 |\n",
      "+-----------------+---------------------+\n",
      "| heartdisease(1) |              1.0000 |\n",
      "+-----------------+---------------------+\n"
     ]
    }
   ],
   "source": [
    "q = HeartDisease_infer.query(variables=['heartdisease'], evidence={'chol': 100})\n",
    "print(q)"
   ]
  },
  {
   "cell_type": "code",
   "execution_count": null,
   "metadata": {},
   "outputs": [],
   "source": []
  }
 ],
 "metadata": {
  "kernelspec": {
   "display_name": "Python 3",
   "language": "python",
   "name": "python3"
  },
  "language_info": {
   "codemirror_mode": {
    "name": "ipython",
    "version": 3
   },
   "file_extension": ".py",
   "mimetype": "text/x-python",
   "name": "python",
   "nbconvert_exporter": "python",
   "pygments_lexer": "ipython3",
   "version": "3.7.4"
  }
 },
 "nbformat": 4,
 "nbformat_minor": 2
}
