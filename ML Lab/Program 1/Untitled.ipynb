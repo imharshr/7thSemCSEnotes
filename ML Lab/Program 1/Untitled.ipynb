{
 "cells": [
  {
   "cell_type": "code",
   "execution_count": 25,
   "metadata": {},
   "outputs": [],
   "source": [
    "import numpy as np\n",
    "import math\n",
    "from scipy import linalg"
   ]
  },
  {
   "cell_type": "code",
   "execution_count": 26,
   "metadata": {},
   "outputs": [],
   "source": [
    "def lowess(x, y, f, iter):\n",
    "    n = len(x)\n",
    "    r = int(math.ceil(f * n))\n",
    "    \n",
    "    h = [np.sort(np.abs(x - x[i]))[r] for i in range(n)]\n",
    "    \n",
    "    w = np.clip(np.abs((x[:,None] - x[None,:]) / h), 0.0, 1.0)\n",
    "    w = (1 - w ** 3) ** 3\n",
    "    \n",
    "    ypred = np.zeros(n)\n",
    "    delta  = np.ones(n)\n",
    "    \n",
    "    for iternation in range(iter):\n",
    "        for i in range(n):\n",
    "            weight = delta * w[:,i]\n",
    "            b = np.array([np.sum(weight * y), np.sum(weight * y * x)])\n",
    "            A = np.array([[np.sum(weight), np.sum(weight * x)], \n",
    "                          [np.sum(weight * x), np.sum(weight * x * x)]])\n",
    "            beta = linalg.solve(A, b)\n",
    "            ypred[i] = beta[0] + beta[1] * x[i]\n",
    "            \n",
    "        residual = y - ypred\n",
    "        s = np.median(np.abs(residula))\n",
    "        delta = np.clip(residual / (6.0 * s), -1, 1)\n",
    "        delta = (1 - delta ** 2) ** 2\n",
    "        \n",
    "    return ypred\n",
    "            "
   ]
  },
  {
   "cell_type": "code",
   "execution_count": 24,
   "metadata": {},
   "outputs": [
    {
     "name": "stdout",
     "output_type": "stream",
     "text": [
      "[[0.         0.04166667 0.08695652 ... 1.         1.         1.        ]\n",
      " [0.04       0.         0.04347826 ... 1.         1.         1.        ]\n",
      " [0.08       0.04166667 0.         ... 1.         1.         1.        ]\n",
      " ...\n",
      " [1.         1.         1.         ... 0.         0.04166667 0.08      ]\n",
      " [1.         1.         1.         ... 0.04347826 0.         0.04      ]\n",
      " [1.         1.         1.         ... 0.08695652 0.04166667 0.        ]]\n"
     ]
    }
   ],
   "source": [
    "n = 100\n",
    "x = np.linspace(0, 2*math.pi, n)\n",
    "y = np.sin(x) + 0.3 * np.random.randn(n)\n",
    "#print(y)\n",
    "\n",
    "ypred = lowess(x, y, 0.25, 3)\n",
    "import pylab as p1 \n",
    "pl.clf()\n",
    "pl.plot(x, y, label=\"1\")\n",
    "p1.plot(x, ypred, label=\"2\")\n",
    "p1.legend()\n",
    "p1.show()"
   ]
  }
 ],
 "metadata": {},
 "nbformat": 4,
 "nbformat_minor": 4
}
