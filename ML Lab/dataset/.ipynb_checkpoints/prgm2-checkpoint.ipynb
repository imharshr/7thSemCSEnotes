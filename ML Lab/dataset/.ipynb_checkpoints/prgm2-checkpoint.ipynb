{
 "cells": [
  {
   "cell_type": "code",
   "execution_count": 35,
   "metadata": {},
   "outputs": [
    {
     "name": "stdout",
     "output_type": "stream",
     "text": [
      "[[' Sunny' 'Warm' 'Normal' 'Strong' ' Warm' 'Same']\n",
      " [' Sunny' 'Warm' 'High' 'Strong' 'Warm' 'Same']\n",
      " [' Rainy' 'Cold' 'High' 'Strong' 'Warm' 'Change']\n",
      " [' Sunny' 'Warm' 'High' 'Strong' 'Cool' 'Change']]\n"
     ]
    }
   ],
   "source": [
    "import csv\n",
    "import pandas as pd\n",
    "import numpy as np\n",
    "\n",
    "data=pd.read_csv(\"Pgm 2 Tennis.csv\")\n",
    "concepts = np.array(data.iloc[:,:-1])\n",
    "print(concepts)\n",
    "target = np.array(data.iloc[:,-1])"
   ]
  },
  {
   "cell_type": "code",
   "execution_count": 30,
   "metadata": {},
   "outputs": [],
   "source": [
    "def learn(concepts, target):\n",
    "    spec = concepts[0].copy()\n",
    "    gen = [[\"?\" for i in range(len(spec))] for i in range(len(spec))]\n",
    "    \n",
    "    for i, h in enumerate(concepts):\n",
    "        if target[i]=='Yes':\n",
    "            for x in range(len(spec)):\n",
    "                if h[x] != spec[x]:\n",
    "                    spec[x] = '?'\n",
    "                    gen[x][x] = '?'\n",
    "\n",
    "        else:\n",
    "            for x in range(len(spec)):\n",
    "                if h[x] != spec[x]:\n",
    "                    gen[x][x] = spec[x]\n",
    "                else:\n",
    "                    gen[x][x] = '?'\n",
    "                    \n",
    "    indices = [\n",
    "        i for i, val in enumerate(gen) if val == ['?','?','?','?','?','?']\n",
    "    ]\n",
    "    for i in indices:\n",
    "        gen.remove(['?','?','?','?','?','?'])\n",
    "        \n",
    "    return spec, gen\n",
    "            "
   ]
  },
  {
   "cell_type": "code",
   "execution_count": 33,
   "metadata": {},
   "outputs": [
    {
     "name": "stdout",
     "output_type": "stream",
     "text": [
      "most specific :  [' Sunny' 'Warm' 'High' 'Strong' '?' '?']\n",
      "most general :  [[' Sunny', '?', '?', '?', '?', '?'], ['?', 'Warm', '?', '?', '?', '?']]\n"
     ]
    }
   ],
   "source": [
    "spec, gen = learn(concepts, target)\n",
    "print(\"most specific : \", spec)\n",
    "print(\"most general : \", gen)\n"
   ]
  },
  {
   "cell_type": "code",
   "execution_count": null,
   "metadata": {},
   "outputs": [],
   "source": []
  }
 ],
 "metadata": {
  "kernelspec": {
   "display_name": "Python 3",
   "language": "python",
   "name": "python3"
  },
  "language_info": {
   "codemirror_mode": {
    "name": "ipython",
    "version": 3
   },
   "file_extension": ".py",
   "mimetype": "text/x-python",
   "name": "python",
   "nbconvert_exporter": "python",
   "pygments_lexer": "ipython3",
   "version": "3.7.7"
  }
 },
 "nbformat": 4,
 "nbformat_minor": 4
}
