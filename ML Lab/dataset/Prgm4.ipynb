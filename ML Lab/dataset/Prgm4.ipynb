{
 "cells": [
  {
   "cell_type": "code",
   "execution_count": 10,
   "metadata": {},
   "outputs": [],
   "source": [
    "import random\n",
    "from random import seed\n",
    "from math import exp"
   ]
  },
  {
   "cell_type": "code",
   "execution_count": 11,
   "metadata": {},
   "outputs": [],
   "source": [
    "def initialize_network(nInput, nHidden, nOutput):\n",
    "    network = []\n",
    "    hiddenLayer = [{'weight':[random.uniform(-0.5,0.5) for i in range(nInput + 1)]} for i in range(nHidden)]\n",
    "    print(\"Hidden Layer : \", hiddenLayer)\n",
    "    network.append(hiddenLayer)\n",
    "    outputLayer = [{'weight':[random.uniform(-0.5, 0.5) for i in range(nHidden + 1)]} for i in range(nOutput)]\n",
    "    network.append(outputLayer)\n",
    "    \n",
    "    i=1\n",
    "    print(\"\\n The initialized :\")\n",
    "    for layer in network:\n",
    "        j=1\n",
    "        for sub in layer:\n",
    "            print(\"\\n Layer %d Node %d \" %(i,j), sub)"
   ]
  },
  {
   "cell_type": "code",
   "execution_count": 12,
   "metadata": {},
   "outputs": [
    {
     "name": "stdout",
     "output_type": "stream",
     "text": [
      "Hidden Layer :  [{'weight': [0.4560342718892494, 0.4478274870593494, -0.4434486322731913]}, {'weight': [-0.41512800484107837, 0.33549887812944956, 0.2359699890685233]}]\n",
      "\n",
      " The initialized :\n",
      "\n",
      " Layer 1 Node 1  {'weight': [0.4560342718892494, 0.4478274870593494, -0.4434486322731913]}\n",
      "\n",
      " Layer 1 Node 1  {'weight': [-0.41512800484107837, 0.33549887812944956, 0.2359699890685233]}\n",
      "\n",
      " Layer 1 Node 1  {'weight': [0.1697304014402209, -0.1918635424108558, 0.10594416567846243]}\n",
      "\n",
      " Layer 1 Node 1  {'weight': [0.10680173364083789, 0.08120401711200309, -0.3416171297451944]}\n"
     ]
    },
    {
     "ename": "NameError",
     "evalue": "name 'trainNetwork' is not defined",
     "output_type": "error",
     "traceback": [
      "\u001b[1;31m---------------------------------------------------------------------------\u001b[0m",
      "\u001b[1;31mNameError\u001b[0m                                 Traceback (most recent call last)",
      "\u001b[1;32m<ipython-input-12-a7b08263abe3>\u001b[0m in \u001b[0;36m<module>\u001b[1;34m\u001b[0m\n\u001b[0;32m     14\u001b[0m \u001b[0mnetwork\u001b[0m \u001b[1;33m=\u001b[0m \u001b[0minitialize_network\u001b[0m\u001b[1;33m(\u001b[0m\u001b[1;36m2\u001b[0m\u001b[1;33m,\u001b[0m \u001b[1;36m2\u001b[0m\u001b[1;33m,\u001b[0m \u001b[1;36m2\u001b[0m\u001b[1;33m)\u001b[0m\u001b[1;33m\u001b[0m\u001b[1;33m\u001b[0m\u001b[0m\n\u001b[0;32m     15\u001b[0m \u001b[1;33m\u001b[0m\u001b[0m\n\u001b[1;32m---> 16\u001b[1;33m \u001b[0mtrainNetwork\u001b[0m\u001b[1;33m(\u001b[0m\u001b[0mnetwork\u001b[0m\u001b[1;33m,\u001b[0m \u001b[0mdataset\u001b[0m\u001b[1;33m,\u001b[0m \u001b[1;36m0.5\u001b[0m\u001b[1;33m,\u001b[0m \u001b[1;36m2\u001b[0m\u001b[1;33m,\u001b[0m \u001b[0mn_outputs\u001b[0m\u001b[1;33m)\u001b[0m\u001b[1;33m\u001b[0m\u001b[1;33m\u001b[0m\u001b[0m\n\u001b[0m",
      "\u001b[1;31mNameError\u001b[0m: name 'trainNetwork' is not defined"
     ]
    }
   ],
   "source": [
    "seed(2) \n",
    "dataset = [[2.7810836,2.550537003,0],\n",
    "    [1.465489372,2.362125076,0],\n",
    "    [3.396561688,4.400293529,0],\n",
    "    [1.38807019,1.850220317,0],\n",
    "    [3.06407232,3.005305973,0],\n",
    "    [7.627531214,2.759262235,1],\n",
    "    [5.332441248,2.088626775,1],\n",
    "    [6.922596716,1.77106367,1],\n",
    "    [8.675418651,-0.242068655,1],\n",
    "    [7.673756466,3.508563011,1]]\n",
    "\n",
    "#Network Initialization\n",
    "network = initialize_network(2, 2, 2)\n",
    "\n",
    "trainNetwork(network, dataset, 0.5, 2, n_outputs)"
   ]
  },
  {
   "cell_type": "code",
   "execution_count": null,
   "metadata": {},
   "outputs": [],
   "source": []
  }
 ],
 "metadata": {
  "kernelspec": {
   "display_name": "Python 3",
   "language": "python",
   "name": "python3"
  },
  "language_info": {
   "codemirror_mode": {
    "name": "ipython",
    "version": 3
   },
   "file_extension": ".py",
   "mimetype": "text/x-python",
   "name": "python",
   "nbconvert_exporter": "python",
   "pygments_lexer": "ipython3",
   "version": "3.7.7"
  }
 },
 "nbformat": 4,
 "nbformat_minor": 4
}
