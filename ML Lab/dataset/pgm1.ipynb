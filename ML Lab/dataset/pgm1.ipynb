{
 "cells": [
  {
   "cell_type": "code",
   "execution_count": 2,
   "metadata": {},
   "outputs": [],
   "source": [
    "import csv\n",
    "import pandas as pd\n",
    "import numpy as np"
   ]
  },
  {
   "cell_type": "code",
   "execution_count": 3,
   "metadata": {},
   "outputs": [
    {
     "name": "stdout",
     "output_type": "stream",
     "text": [
      "[['Sunny' 'Hot' 'High' 'Weak' 'No']\n",
      " ['Sunny' 'Hot' 'High' 'Strong' 'No']\n",
      " ['Overcast' 'Hot' 'High' 'Weak' 'Yes']\n",
      " ['Rain' 'Mild' 'High' 'Weak' 'Yes']\n",
      " ['Rain' 'Cool' 'Normal' 'Weak' 'Yes']\n",
      " ['Rain' 'Cool' 'Normal' 'Strong' 'No']\n",
      " ['Overcast' 'Cool' 'Normal' 'Strong' 'Yes']\n",
      " ['Sunny' 'Mild' 'High' 'Weak' 'No']\n",
      " ['Sunny' 'Cool' 'Normal' 'Weak' 'Yes']\n",
      " ['Rain' 'Mild' 'Normal' 'Weak' 'Yes']\n",
      " ['Sunny' 'Mild' 'Normal' 'Strong' 'Yes']\n",
      " ['Overcast' 'Mild' 'High' 'Strong' 'Yes']\n",
      " ['Overcast' 'Hot' 'Normal' 'Weak' 'Yes']\n",
      " ['Rain' 'Mild' 'High' 'Strong' 'No']]\n"
     ]
    }
   ],
   "source": [
    "data = pd.read_csv('Pgm 1 Tennis Dataset.csv')\n",
    "\n",
    "a = np.array(data.iloc[:,1:])\n",
    "print(a)"
   ]
  },
  {
   "cell_type": "code",
   "execution_count": 4,
   "metadata": {},
   "outputs": [
    {
     "name": "stdout",
     "output_type": "stream",
     "text": [
      "Initial Hypo :  ['0', '0', '0', '0']\n"
     ]
    }
   ],
   "source": [
    "numAttr = len(a[0]) - 1\n",
    "hypothesis = ['0'] * numAttr\n",
    "print(\"Initial Hypo : \", hypothesis)"
   ]
  },
  {
   "cell_type": "code",
   "execution_count": 5,
   "metadata": {},
   "outputs": [
    {
     "name": "stdout",
     "output_type": "stream",
     "text": [
      "Final Hypo :  ['?', '?', '?', '?']\n"
     ]
    }
   ],
   "source": [
    "for i in range(len(a)):\n",
    "    if a[i][numAttr] == 'Yes':\n",
    "        for j in range(0, numAttr):\n",
    "            if hypothesis[j] == '0' or hypothesis[j] == a[i][j]:\n",
    "                hypothesis[j] = a[i][j]\n",
    "            else:\n",
    "                hypothesis[j] = '?'\n",
    "                \n",
    "print(\"Final Hypo : \", hypothesis)"
   ]
  }
 ],
 "metadata": {
  "kernelspec": {
   "display_name": "Python 3",
   "language": "python",
   "name": "python3"
  }
 },
 "nbformat": 4,
 "nbformat_minor": 4
}
