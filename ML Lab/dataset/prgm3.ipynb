{
 "cells": [
  {
   "cell_type": "code",
   "execution_count": 86,
   "metadata": {},
   "outputs": [],
   "source": [
    "import numpy as np\n",
    "import math\n",
    "import pandas as pd"
   ]
  },
  {
   "cell_type": "code",
   "execution_count": 87,
   "metadata": {},
   "outputs": [],
   "source": [
    "class Node:\n",
    "    def __init__(self, attribute):\n",
    "        self.attribute = attribute\n",
    "        self.children = []\n",
    "        self.answer = \"\"\n",
    "    \n",
    "    def __str__(self):\n",
    "        return self.attribute"
   ]
  },
  {
   "cell_type": "code",
   "execution_count": 88,
   "metadata": {},
   "outputs": [],
   "source": [
    "def subtables(data, col):\n",
    "    dict = {}\n",
    "    items = np.unique(data[:, col])\n",
    "    \n",
    "    count = np.zeros((items.shape[0], 1), dtype=int)\n",
    "    \n",
    "    for x in range(items.shape[0]):\n",
    "        #count[x] = sum(data[:,col] == items[x])\n",
    "        for y in range(data.shape[0]):\n",
    "            if data[y, col] == items[x]:\n",
    "                count[x] +=1\n",
    "            #pass\n",
    "                \n",
    "    for x in range(items.shape[0]):\n",
    "        dict[items[x]] = np.empty((int(count[x]), data.shape[1]), dtype=\"S32\")\n",
    "        pos = 0\n",
    "        for y in range(data.shape[0]):\n",
    "            if data[y, col] == items[x]:\n",
    "                dict[items[x]][pos] = data[y]\n",
    "                pos+=1\n",
    "        # remove column \n",
    "        dict[items[x]] = np.delete(dict[items[x]], col, 1)\n",
    "    \n",
    "    return items, dict"
   ]
  },
  {
   "cell_type": "code",
   "execution_count": 89,
   "metadata": {},
   "outputs": [],
   "source": [
    "def entropy(S):\n",
    "    items = np.unique(S)\n",
    "    \n",
    "    if items.size == 1:\n",
    "        return 0\n",
    "    \n",
    "    counts = np.zeros((items.shape[0],1))\n",
    "    sums = 0\n",
    "    \n",
    "    for x in range(items.shape[0]):\n",
    "        counts[x] = sum( S == items[x]) / (S.size)\n",
    "        \n",
    "    for count in counts:\n",
    "        sums += -1 * count * math.log(count, 2)\n",
    "        \n",
    "    return sums"
   ]
  },
  {
   "cell_type": "code",
   "execution_count": 90,
   "metadata": {},
   "outputs": [],
   "source": [
    "def gainRatio(data, col):\n",
    "    items, dict = subtables(data, col)\n",
    "    \n",
    "    totalSize = data.shape[0]\n",
    "    \n",
    "    entropies = np.zeros((items.shape[0],1))\n",
    "    \n",
    "    for x in range(items.shape[0]):\n",
    "        ratio = dict[items[x]].shape[0]/totalSize\n",
    "        entropies[x] = ratio * entropy(dict[items[x]][:, -1])\n",
    "        \n",
    "    totalEntropy = entropy(data[:,-1])\n",
    "    \n",
    "    for x in range(entropies.shape[0]):\n",
    "        totalEntropy -= entropies[x]\n",
    "        \n",
    "    return totalEntropy"
   ]
  },
  {
   "cell_type": "code",
   "execution_count": 91,
   "metadata": {},
   "outputs": [],
   "source": [
    "def createNode(data, metadata):\n",
    "    if(np.unique(data[:,-1])).shape[0] == 1:\n",
    "        node = Node(\"\")\n",
    "        node.answer = np.unique(data[:, -1])[0]\n",
    "        return node\n",
    "    \n",
    "    gains = np.zeros((data.shape[1] - 1, 1))\n",
    "    \n",
    "    for col in range(data.shape[1]-1):\n",
    "        gains[col] = gainRatio(data, col)\n",
    "        \n",
    "    split = np.argmax(gains)\n",
    "    node = Node(metadata[split])\n",
    "    metadata = np.delete(metadata, split, 0)\n",
    "    items, dict = subtables(data, split)\n",
    "    \n",
    "    for x in range(items.shape[0]):\n",
    "        child = createNode(dict[items[x]], metadata)\n",
    "        node.children.append((items[x], child))\n",
    "        \n",
    "    return node"
   ]
  },
  {
   "cell_type": "code",
   "execution_count": 92,
   "metadata": {},
   "outputs": [],
   "source": [
    "def readData(filename):\n",
    "    data = pd.read_csv(filename, header=None)\n",
    "    metadata = np.array(data.iloc[0, :])\n",
    "    traindata = np.array(data.iloc[1:, :])\n",
    "    \n",
    "    return (metadata, traindata)"
   ]
  },
  {
   "cell_type": "code",
   "execution_count": 93,
   "metadata": {},
   "outputs": [],
   "source": [
    "def empty(size):\n",
    "    s = ''\n",
    "    for x in range(size):\n",
    "        s += \"    \"\n",
    "    return s"
   ]
  },
  {
   "cell_type": "code",
   "execution_count": 94,
   "metadata": {},
   "outputs": [],
   "source": [
    "def printTree(node, level):\n",
    "    if node.answer!= \"\":\n",
    "        print(empty(level), node.answer)\n",
    "        \n",
    "    print(empty(level), node.attribute)\n",
    "    \n",
    "    for value, n in node.children:\n",
    "        print(empty(level+1), value)\n",
    "        printTree(n, level + 2)"
   ]
  },
  {
   "cell_type": "code",
   "execution_count": 95,
   "metadata": {},
   "outputs": [
    {
     "name": "stdout",
     "output_type": "stream",
     "text": [
      " Outlook\n",
      "     Overcast\n",
      "         b'Yes'\n",
      "         \n",
      "     Rain\n",
      "         Wind\n",
      "             b'Strong'\n",
      "                 b'No'\n",
      "                 \n",
      "             b'Weak'\n",
      "                 b'Yes'\n",
      "                 \n",
      "     Sunny\n",
      "         Humidity\n",
      "             b'High'\n",
      "                 b'No'\n",
      "                 \n",
      "             b'Normal'\n",
      "                 b'Yes'\n",
      "                 \n"
     ]
    }
   ],
   "source": [
    "metadata, traindata  = readData(\"Pgm 3 TennisDT.csv\")\n",
    "\n",
    "node = createNode(traindata, metadata)\n",
    "\n",
    "printTree(node, 0)"
   ]
  }
 ],
 "metadata": {
  "kernelspec": {
   "display_name": "Python 3",
   "language": "python",
   "name": "python3"
  },
  "language_info": {
   "codemirror_mode": {
    "name": "ipython",
    "version": 3
   },
   "file_extension": ".py",
   "mimetype": "text/x-python",
   "name": "python",
   "nbconvert_exporter": "python",
   "pygments_lexer": "ipython3",
   "version": "3.7.7"
  }
 },
 "nbformat": 4,
 "nbformat_minor": 4
}
